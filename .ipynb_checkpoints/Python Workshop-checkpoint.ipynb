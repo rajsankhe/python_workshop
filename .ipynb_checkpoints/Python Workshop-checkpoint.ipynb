{
 "cells": [
  {
   "cell_type": "markdown",
   "metadata": {},
   "source": [
    "# Python Workshop\n",
    "\n",
    "## Basics of Python \n",
    "### Why python?\n",
    "- It was mainly developed for emphasis on code readability, and its syntax allows programmers to express concepts in fewer lines of code.\n",
    "\n",
    "### What does Python offer?\n",
    "- Python is an interpreted,  high-level, general-purpose programming language.\n",
    "- Python is open source \n",
    "- Python is a dynamically-typed language/ Weak typing\n",
    "- Procedural and object-oriented \n",
    "\n",
    "## Index\n",
    "\n",
    "[01 - Variable, Operators and Built-in Functions](./Subtopics/1-Variable_Operators_and_Built_in_Functions.ipynb)\n",
    "\n",
    "\n",
    "[02 - Print Statement](./Subtopics/2-Print_Statement.ipynb)\n",
    "\n",
    "\n",
    "[03 - Lists, Tuples and Sets](./Subtopics/3-Lists_Tuples_and_Sets.ipynb)\n",
    "\n",
    "[04 - Strings and Dictionaries](./Subtopics/4-Strings_and_Dictionaries.ipynb)\n",
    "\n",
    "[05 - Control Flow Statements](./Subtopics/5-Control_Flow_Statements.ipynb)\n",
    "\n",
    "[06 - Functions](./Subtopics/6-Functions.ipynb)\n",
    "\n",
    "[07- Numpy](./Subtopics/7-Numpy.ipynb)\n",
    "\n",
    "[08- Pandas](./Subtopics/9-Pandas.ipynb)"
   ]
  },
  {
   "cell_type": "code",
   "execution_count": null,
   "metadata": {},
   "outputs": [],
   "source": []
  }
 ],
 "metadata": {
  "kernelspec": {
   "display_name": "Python 3",
   "language": "python",
   "name": "python3"
  },
  "language_info": {
   "codemirror_mode": {
    "name": "ipython",
    "version": 3
   },
   "file_extension": ".py",
   "mimetype": "text/x-python",
   "name": "python",
   "nbconvert_exporter": "python",
   "pygments_lexer": "ipython3",
   "version": "3.7.0"
  }
 },
 "nbformat": 4,
 "nbformat_minor": 2
}
